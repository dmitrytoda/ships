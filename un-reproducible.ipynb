{
 "cells": [
  {
   "cell_type": "code",
   "execution_count": 15,
   "id": "minor-charter",
   "metadata": {},
   "outputs": [
    {
     "name": "stdout",
     "output_type": "stream",
     "text": [
      "[0.85888927 0.23846818 0.17757634 0.07244977 0.71119893 0.09223853\n",
      " 0.86074647 0.31838194 0.7568638  0.38197083]\n"
     ]
    },
    {
     "data": {
      "text/plain": [
       "array([[0.51012236],\n",
       "       [0.6562015 ],\n",
       "       [0.5593666 ],\n",
       "       [0.686155  ],\n",
       "       [0.6488372 ],\n",
       "       [0.5966359 ],\n",
       "       [0.6236731 ],\n",
       "       [0.58099884],\n",
       "       [0.68447435],\n",
       "       [0.58886844]], dtype=float32)"
      ]
     },
     "execution_count": 15,
     "metadata": {},
     "output_type": "execute_result"
    }
   ],
   "source": [
    "import numpy as np\n",
    "from tensorflow.keras.layers import Dense, Dropout\n",
    "from tensorflow.keras import Sequential, optimizers\n",
    "import tensorflow as tf\n",
    "\n",
    "np.random.seed(32)\n",
    "tf.set_random_seed(33)\n",
    "\n",
    "random_data = np.random.rand(10, 2048)\n",
    "print(random_data[:,0])\n",
    "\n",
    "def make_classifier():\n",
    "    model = Sequential()\n",
    "    model.add(Dense(1024, activation='relu', input_dim=2048))\n",
    "    model.add(Dropout(0.5))\n",
    "    model.add(Dense(1, activation='sigmoid'))\n",
    "    model.compile(optimizer=optimizers.RMSprop(lr=2e-4),\n",
    "              loss='binary_crossentropy')\n",
    "    return model\n",
    "model = make_classifier()\n",
    "# model.summary()\n",
    "model.predict(random_data)"
   ]
  },
  {
   "cell_type": "code",
   "execution_count": 9,
   "id": "included-retrieval",
   "metadata": {},
   "outputs": [
    {
     "ename": "NameError",
     "evalue": "name 'vgg_train' is not defined",
     "output_type": "error",
     "traceback": [
      "\u001b[1;31m---------------------------------------------------------------------------\u001b[0m",
      "\u001b[1;31mNameError\u001b[0m                                 Traceback (most recent call last)",
      "\u001b[1;32m<ipython-input-9-ac23c443075d>\u001b[0m in \u001b[0;36m<module>\u001b[1;34m\u001b[0m\n\u001b[1;32m----> 1\u001b[1;33m \u001b[0mvgg_train\u001b[0m\u001b[1;33m.\u001b[0m\u001b[0mshape\u001b[0m\u001b[1;33m\u001b[0m\u001b[1;33m\u001b[0m\u001b[0m\n\u001b[0m",
      "\u001b[1;31mNameError\u001b[0m: name 'vgg_train' is not defined"
     ]
    }
   ],
   "source": []
  },
  {
   "cell_type": "code",
   "execution_count": null,
   "id": "loved-marriage",
   "metadata": {},
   "outputs": [],
   "source": []
  }
 ],
 "metadata": {
  "kernelspec": {
   "display_name": "TensorFlow",
   "language": "python",
   "name": "tensorflow"
  },
  "language_info": {
   "codemirror_mode": {
    "name": "ipython",
    "version": 3
   },
   "file_extension": ".py",
   "mimetype": "text/x-python",
   "name": "python",
   "nbconvert_exporter": "python",
   "pygments_lexer": "ipython3",
   "version": "3.7.9"
  }
 },
 "nbformat": 4,
 "nbformat_minor": 5
}
